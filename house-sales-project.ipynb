{
 "cells": [
  {
   "cell_type": "markdown",
   "id": "0bbc53ca",
   "metadata": {
    "papermill": {
     "duration": 0.008986,
     "end_time": "2023-12-28T00:53:08.021208",
     "exception": false,
     "start_time": "2023-12-28T00:53:08.012222",
     "status": "completed"
    },
    "tags": []
   },
   "source": [
    "# **House Sales Project**\n",
    "#  1. Introduction\n",
    "#  1.1. Scenario\n",
    "In this project, as a Data Analyst working at a Real Estate Investment Trust, I am tasked with determining the market price of a house given a set of features. The Trust would like to start investing in Residential real estate.  This will be done by analyzing and predicting housing prices using attributes or features such as square footage, number of bedrooms, number of floors, and so on.\n",
    "# 1.2. The Data\n",
    "This dataset contains house sale prices for King County, which includes Seattle. It includes homes sold between May 2014 and May 2015.\n",
    "\n",
    "\n",
    "| Variable      | Description                                                                                                 |\n",
    "| ------------- | ----------------------------------------------------------------------------------------------------------- |\n",
    "| id            | A notation for a house                                                                                      |\n",
    "| date          | Date house was sold                                                                                         |\n",
    "| price         | Price is prediction target                                                                                  |\n",
    "| bedrooms      | Number of bedrooms                                                                                          |\n",
    "| bathrooms     | Number of bathrooms                                                                                         |\n",
    "| sqft_living   | Square footage of the home                                                                                  |\n",
    "| sqft_lot      | Square footage of the lot                                                                                   |\n",
    "| floors        | Total floors (levels) in house                                                                              |\n",
    "| waterfront    | House which has a view to a waterfront                                                                      |\n",
    "| view          | Has been viewed                                                                                             |\n",
    "| condition     | How good the condition is overall                                                                           |\n",
    "| grade         | overall grade given to the housing unit, based on King County grading system                                |\n",
    "| sqft_above    | Square footage of house apart from basement                                                                 |\n",
    "| sqft_basement | Square footage of the basement                                                                              |\n",
    "| yr_built      | Built Year                                                                                                  |\n",
    "| yr_renovated  | Year when house was renovated                                                                               |\n",
    "| zipcode       | Zip code                                                                                                    |\n",
    "| lat           | Latitude coordinate                                                                                         |\n",
    "| long          | Longitude coordinate                                                                                        |\n",
    "| sqft_living15 | Living room area in 2015(implies-- some renovations) This might or might not have affected the lotsize area |\n",
    "| sqft_lot15    | LotSize area in 2015(implies-- some renovations)                                                            |\n"
   ]
  },
  {
   "cell_type": "markdown",
   "id": "799f905f",
   "metadata": {
    "papermill": {
     "duration": 0.008238,
     "end_time": "2023-12-28T00:53:08.037854",
     "exception": false,
     "start_time": "2023-12-28T00:53:08.029616",
     "status": "completed"
    },
    "tags": []
   },
   "source": [
    "# 2. Data Analysis\n",
    "\n",
    "1. Importing Libraries.\n",
    "Before anything, we will start by importing all the needed libraries for this project."
   ]
  },
  {
   "cell_type": "code",
   "execution_count": 1,
   "id": "d37bbc1f",
   "metadata": {
    "execution": {
     "iopub.execute_input": "2023-12-28T00:53:08.056862Z",
     "iopub.status.busy": "2023-12-28T00:53:08.056260Z",
     "iopub.status.idle": "2023-12-28T00:53:09.976588Z",
     "shell.execute_reply": "2023-12-28T00:53:09.975596Z"
    },
    "papermill": {
     "duration": 1.932813,
     "end_time": "2023-12-28T00:53:09.978998",
     "exception": false,
     "start_time": "2023-12-28T00:53:08.046185",
     "status": "completed"
    },
    "tags": []
   },
   "outputs": [],
   "source": [
    "import pandas as pd\n",
    "import matplotlib.pyplot as plt\n",
    "import numpy as np\n",
    "import seaborn as sns\n",
    "from sklearn.pipeline import Pipeline\n",
    "from sklearn.preprocessing import StandardScaler,PolynomialFeatures\n",
    "from sklearn.linear_model import LinearRegression\n",
    "%matplotlib inline"
   ]
  },
  {
   "cell_type": "markdown",
   "id": "96e0df0e",
   "metadata": {
    "papermill": {
     "duration": 0.008156,
     "end_time": "2023-12-28T00:53:09.995825",
     "exception": false,
     "start_time": "2023-12-28T00:53:09.987669",
     "status": "completed"
    },
    "tags": []
   },
   "source": [
    "2. Import the data set"
   ]
  },
  {
   "cell_type": "code",
   "execution_count": 2,
   "id": "79b64aa0",
   "metadata": {
    "execution": {
     "iopub.execute_input": "2023-12-28T00:53:10.016684Z",
     "iopub.status.busy": "2023-12-28T00:53:10.015850Z",
     "iopub.status.idle": "2023-12-28T00:53:11.830047Z",
     "shell.execute_reply": "2023-12-28T00:53:11.829118Z"
    },
    "papermill": {
     "duration": 1.82699,
     "end_time": "2023-12-28T00:53:11.832433",
     "exception": false,
     "start_time": "2023-12-28T00:53:10.005443",
     "status": "completed"
    },
    "tags": []
   },
   "outputs": [],
   "source": [
    "file_name='https://cf-courses-data.s3.us.cloud-object-storage.appdomain.cloud/IBMDeveloperSkillsNetwork-DA0101EN-SkillsNetwork/labs/FinalModule_Coursera/data/kc_house_data_NaN.csv'\n",
    "df = pd.read_csv(file_name)"
   ]
  },
  {
   "cell_type": "markdown",
   "id": "caf9baad",
   "metadata": {
    "papermill": {
     "duration": 0.007784,
     "end_time": "2023-12-28T00:53:11.848853",
     "exception": false,
     "start_time": "2023-12-28T00:53:11.841069",
     "status": "completed"
    },
    "tags": []
   },
   "source": [
    "We will use the <code>head</code> method to verify if the loaded was loaded properly"
   ]
  },
  {
   "cell_type": "code",
   "execution_count": 3,
   "id": "40e92702",
   "metadata": {
    "execution": {
     "iopub.execute_input": "2023-12-28T00:53:11.866810Z",
     "iopub.status.busy": "2023-12-28T00:53:11.866457Z",
     "iopub.status.idle": "2023-12-28T00:53:11.899892Z",
     "shell.execute_reply": "2023-12-28T00:53:11.899042Z"
    },
    "papermill": {
     "duration": 0.044836,
     "end_time": "2023-12-28T00:53:11.901768",
     "exception": false,
     "start_time": "2023-12-28T00:53:11.856932",
     "status": "completed"
    },
    "tags": []
   },
   "outputs": [
    {
     "data": {
      "text/html": [
       "<div>\n",
       "<style scoped>\n",
       "    .dataframe tbody tr th:only-of-type {\n",
       "        vertical-align: middle;\n",
       "    }\n",
       "\n",
       "    .dataframe tbody tr th {\n",
       "        vertical-align: top;\n",
       "    }\n",
       "\n",
       "    .dataframe thead th {\n",
       "        text-align: right;\n",
       "    }\n",
       "</style>\n",
       "<table border=\"1\" class=\"dataframe\">\n",
       "  <thead>\n",
       "    <tr style=\"text-align: right;\">\n",
       "      <th></th>\n",
       "      <th>Unnamed: 0</th>\n",
       "      <th>id</th>\n",
       "      <th>date</th>\n",
       "      <th>price</th>\n",
       "      <th>bedrooms</th>\n",
       "      <th>bathrooms</th>\n",
       "      <th>sqft_living</th>\n",
       "      <th>sqft_lot</th>\n",
       "      <th>floors</th>\n",
       "      <th>waterfront</th>\n",
       "      <th>...</th>\n",
       "      <th>grade</th>\n",
       "      <th>sqft_above</th>\n",
       "      <th>sqft_basement</th>\n",
       "      <th>yr_built</th>\n",
       "      <th>yr_renovated</th>\n",
       "      <th>zipcode</th>\n",
       "      <th>lat</th>\n",
       "      <th>long</th>\n",
       "      <th>sqft_living15</th>\n",
       "      <th>sqft_lot15</th>\n",
       "    </tr>\n",
       "  </thead>\n",
       "  <tbody>\n",
       "    <tr>\n",
       "      <th>0</th>\n",
       "      <td>0</td>\n",
       "      <td>7129300520</td>\n",
       "      <td>20141013T000000</td>\n",
       "      <td>221900.0</td>\n",
       "      <td>3.0</td>\n",
       "      <td>1.00</td>\n",
       "      <td>1180</td>\n",
       "      <td>5650</td>\n",
       "      <td>1.0</td>\n",
       "      <td>0</td>\n",
       "      <td>...</td>\n",
       "      <td>7</td>\n",
       "      <td>1180</td>\n",
       "      <td>0</td>\n",
       "      <td>1955</td>\n",
       "      <td>0</td>\n",
       "      <td>98178</td>\n",
       "      <td>47.5112</td>\n",
       "      <td>-122.257</td>\n",
       "      <td>1340</td>\n",
       "      <td>5650</td>\n",
       "    </tr>\n",
       "    <tr>\n",
       "      <th>1</th>\n",
       "      <td>1</td>\n",
       "      <td>6414100192</td>\n",
       "      <td>20141209T000000</td>\n",
       "      <td>538000.0</td>\n",
       "      <td>3.0</td>\n",
       "      <td>2.25</td>\n",
       "      <td>2570</td>\n",
       "      <td>7242</td>\n",
       "      <td>2.0</td>\n",
       "      <td>0</td>\n",
       "      <td>...</td>\n",
       "      <td>7</td>\n",
       "      <td>2170</td>\n",
       "      <td>400</td>\n",
       "      <td>1951</td>\n",
       "      <td>1991</td>\n",
       "      <td>98125</td>\n",
       "      <td>47.7210</td>\n",
       "      <td>-122.319</td>\n",
       "      <td>1690</td>\n",
       "      <td>7639</td>\n",
       "    </tr>\n",
       "    <tr>\n",
       "      <th>2</th>\n",
       "      <td>2</td>\n",
       "      <td>5631500400</td>\n",
       "      <td>20150225T000000</td>\n",
       "      <td>180000.0</td>\n",
       "      <td>2.0</td>\n",
       "      <td>1.00</td>\n",
       "      <td>770</td>\n",
       "      <td>10000</td>\n",
       "      <td>1.0</td>\n",
       "      <td>0</td>\n",
       "      <td>...</td>\n",
       "      <td>6</td>\n",
       "      <td>770</td>\n",
       "      <td>0</td>\n",
       "      <td>1933</td>\n",
       "      <td>0</td>\n",
       "      <td>98028</td>\n",
       "      <td>47.7379</td>\n",
       "      <td>-122.233</td>\n",
       "      <td>2720</td>\n",
       "      <td>8062</td>\n",
       "    </tr>\n",
       "    <tr>\n",
       "      <th>3</th>\n",
       "      <td>3</td>\n",
       "      <td>2487200875</td>\n",
       "      <td>20141209T000000</td>\n",
       "      <td>604000.0</td>\n",
       "      <td>4.0</td>\n",
       "      <td>3.00</td>\n",
       "      <td>1960</td>\n",
       "      <td>5000</td>\n",
       "      <td>1.0</td>\n",
       "      <td>0</td>\n",
       "      <td>...</td>\n",
       "      <td>7</td>\n",
       "      <td>1050</td>\n",
       "      <td>910</td>\n",
       "      <td>1965</td>\n",
       "      <td>0</td>\n",
       "      <td>98136</td>\n",
       "      <td>47.5208</td>\n",
       "      <td>-122.393</td>\n",
       "      <td>1360</td>\n",
       "      <td>5000</td>\n",
       "    </tr>\n",
       "    <tr>\n",
       "      <th>4</th>\n",
       "      <td>4</td>\n",
       "      <td>1954400510</td>\n",
       "      <td>20150218T000000</td>\n",
       "      <td>510000.0</td>\n",
       "      <td>3.0</td>\n",
       "      <td>2.00</td>\n",
       "      <td>1680</td>\n",
       "      <td>8080</td>\n",
       "      <td>1.0</td>\n",
       "      <td>0</td>\n",
       "      <td>...</td>\n",
       "      <td>8</td>\n",
       "      <td>1680</td>\n",
       "      <td>0</td>\n",
       "      <td>1987</td>\n",
       "      <td>0</td>\n",
       "      <td>98074</td>\n",
       "      <td>47.6168</td>\n",
       "      <td>-122.045</td>\n",
       "      <td>1800</td>\n",
       "      <td>7503</td>\n",
       "    </tr>\n",
       "  </tbody>\n",
       "</table>\n",
       "<p>5 rows × 22 columns</p>\n",
       "</div>"
      ],
      "text/plain": [
       "   Unnamed: 0          id             date     price  bedrooms  bathrooms  \\\n",
       "0           0  7129300520  20141013T000000  221900.0       3.0       1.00   \n",
       "1           1  6414100192  20141209T000000  538000.0       3.0       2.25   \n",
       "2           2  5631500400  20150225T000000  180000.0       2.0       1.00   \n",
       "3           3  2487200875  20141209T000000  604000.0       4.0       3.00   \n",
       "4           4  1954400510  20150218T000000  510000.0       3.0       2.00   \n",
       "\n",
       "   sqft_living  sqft_lot  floors  waterfront  ...  grade  sqft_above  \\\n",
       "0         1180      5650     1.0           0  ...      7        1180   \n",
       "1         2570      7242     2.0           0  ...      7        2170   \n",
       "2          770     10000     1.0           0  ...      6         770   \n",
       "3         1960      5000     1.0           0  ...      7        1050   \n",
       "4         1680      8080     1.0           0  ...      8        1680   \n",
       "\n",
       "   sqft_basement  yr_built  yr_renovated  zipcode      lat     long  \\\n",
       "0              0      1955             0    98178  47.5112 -122.257   \n",
       "1            400      1951          1991    98125  47.7210 -122.319   \n",
       "2              0      1933             0    98028  47.7379 -122.233   \n",
       "3            910      1965             0    98136  47.5208 -122.393   \n",
       "4              0      1987             0    98074  47.6168 -122.045   \n",
       "\n",
       "   sqft_living15  sqft_lot15  \n",
       "0           1340        5650  \n",
       "1           1690        7639  \n",
       "2           2720        8062  \n",
       "3           1360        5000  \n",
       "4           1800        7503  \n",
       "\n",
       "[5 rows x 22 columns]"
      ]
     },
     "execution_count": 3,
     "metadata": {},
     "output_type": "execute_result"
    }
   ],
   "source": [
    "df.head(5)"
   ]
  },
  {
   "cell_type": "markdown",
   "id": "c8c91a53",
   "metadata": {
    "papermill": {
     "duration": 0.008334,
     "end_time": "2023-12-28T00:53:11.918685",
     "exception": false,
     "start_time": "2023-12-28T00:53:11.910351",
     "status": "completed"
    },
    "tags": []
   },
   "source": [
    "As seen above, the data was loaded properly."
   ]
  },
  {
   "cell_type": "markdown",
   "id": "716ebaf5",
   "metadata": {
    "papermill": {
     "duration": 0.008268,
     "end_time": "2023-12-28T00:53:11.935524",
     "exception": false,
     "start_time": "2023-12-28T00:53:11.927256",
     "status": "completed"
    },
    "tags": []
   },
   "source": [
    "Now we need to check the data types"
   ]
  },
  {
   "cell_type": "code",
   "execution_count": 4,
   "id": "60c54a3f",
   "metadata": {
    "execution": {
     "iopub.execute_input": "2023-12-28T00:53:11.954498Z",
     "iopub.status.busy": "2023-12-28T00:53:11.953872Z",
     "iopub.status.idle": "2023-12-28T00:53:11.960630Z",
     "shell.execute_reply": "2023-12-28T00:53:11.959789Z"
    },
    "papermill": {
     "duration": 0.01818,
     "end_time": "2023-12-28T00:53:11.962310",
     "exception": false,
     "start_time": "2023-12-28T00:53:11.944130",
     "status": "completed"
    },
    "tags": []
   },
   "outputs": [
    {
     "data": {
      "text/plain": [
       "Unnamed: 0         int64\n",
       "id                 int64\n",
       "date              object\n",
       "price            float64\n",
       "bedrooms         float64\n",
       "bathrooms        float64\n",
       "sqft_living        int64\n",
       "sqft_lot           int64\n",
       "floors           float64\n",
       "waterfront         int64\n",
       "view               int64\n",
       "condition          int64\n",
       "grade              int64\n",
       "sqft_above         int64\n",
       "sqft_basement      int64\n",
       "yr_built           int64\n",
       "yr_renovated       int64\n",
       "zipcode            int64\n",
       "lat              float64\n",
       "long             float64\n",
       "sqft_living15      int64\n",
       "sqft_lot15         int64\n",
       "dtype: object"
      ]
     },
     "execution_count": 4,
     "metadata": {},
     "output_type": "execute_result"
    }
   ],
   "source": [
    "df.dtypes"
   ]
  },
  {
   "cell_type": "markdown",
   "id": "d86fa532",
   "metadata": {
    "papermill": {
     "duration": 0.008428,
     "end_time": "2023-12-28T00:53:11.979498",
     "exception": false,
     "start_time": "2023-12-28T00:53:11.971070",
     "status": "completed"
    },
    "tags": []
   },
   "source": [
    "We can also check the statistical summary of the dataframe using the <code>describe</code> method."
   ]
  },
  {
   "cell_type": "code",
   "execution_count": 5,
   "id": "7ee1634f",
   "metadata": {
    "execution": {
     "iopub.execute_input": "2023-12-28T00:53:11.999615Z",
     "iopub.status.busy": "2023-12-28T00:53:11.999084Z",
     "iopub.status.idle": "2023-12-28T00:53:12.065741Z",
     "shell.execute_reply": "2023-12-28T00:53:12.064484Z"
    },
    "papermill": {
     "duration": 0.079956,
     "end_time": "2023-12-28T00:53:12.068288",
     "exception": false,
     "start_time": "2023-12-28T00:53:11.988332",
     "status": "completed"
    },
    "tags": []
   },
   "outputs": [
    {
     "data": {
      "text/html": [
       "<div>\n",
       "<style scoped>\n",
       "    .dataframe tbody tr th:only-of-type {\n",
       "        vertical-align: middle;\n",
       "    }\n",
       "\n",
       "    .dataframe tbody tr th {\n",
       "        vertical-align: top;\n",
       "    }\n",
       "\n",
       "    .dataframe thead th {\n",
       "        text-align: right;\n",
       "    }\n",
       "</style>\n",
       "<table border=\"1\" class=\"dataframe\">\n",
       "  <thead>\n",
       "    <tr style=\"text-align: right;\">\n",
       "      <th></th>\n",
       "      <th>Unnamed: 0</th>\n",
       "      <th>id</th>\n",
       "      <th>price</th>\n",
       "      <th>bedrooms</th>\n",
       "      <th>bathrooms</th>\n",
       "      <th>sqft_living</th>\n",
       "      <th>sqft_lot</th>\n",
       "      <th>floors</th>\n",
       "      <th>waterfront</th>\n",
       "      <th>view</th>\n",
       "      <th>...</th>\n",
       "      <th>grade</th>\n",
       "      <th>sqft_above</th>\n",
       "      <th>sqft_basement</th>\n",
       "      <th>yr_built</th>\n",
       "      <th>yr_renovated</th>\n",
       "      <th>zipcode</th>\n",
       "      <th>lat</th>\n",
       "      <th>long</th>\n",
       "      <th>sqft_living15</th>\n",
       "      <th>sqft_lot15</th>\n",
       "    </tr>\n",
       "  </thead>\n",
       "  <tbody>\n",
       "    <tr>\n",
       "      <th>count</th>\n",
       "      <td>21613.00000</td>\n",
       "      <td>2.161300e+04</td>\n",
       "      <td>2.161300e+04</td>\n",
       "      <td>21600.000000</td>\n",
       "      <td>21603.000000</td>\n",
       "      <td>21613.000000</td>\n",
       "      <td>2.161300e+04</td>\n",
       "      <td>21613.000000</td>\n",
       "      <td>21613.000000</td>\n",
       "      <td>21613.000000</td>\n",
       "      <td>...</td>\n",
       "      <td>21613.000000</td>\n",
       "      <td>21613.000000</td>\n",
       "      <td>21613.000000</td>\n",
       "      <td>21613.000000</td>\n",
       "      <td>21613.000000</td>\n",
       "      <td>21613.000000</td>\n",
       "      <td>21613.000000</td>\n",
       "      <td>21613.000000</td>\n",
       "      <td>21613.000000</td>\n",
       "      <td>21613.000000</td>\n",
       "    </tr>\n",
       "    <tr>\n",
       "      <th>mean</th>\n",
       "      <td>10806.00000</td>\n",
       "      <td>4.580302e+09</td>\n",
       "      <td>5.400881e+05</td>\n",
       "      <td>3.372870</td>\n",
       "      <td>2.115736</td>\n",
       "      <td>2079.899736</td>\n",
       "      <td>1.510697e+04</td>\n",
       "      <td>1.494309</td>\n",
       "      <td>0.007542</td>\n",
       "      <td>0.234303</td>\n",
       "      <td>...</td>\n",
       "      <td>7.656873</td>\n",
       "      <td>1788.390691</td>\n",
       "      <td>291.509045</td>\n",
       "      <td>1971.005136</td>\n",
       "      <td>84.402258</td>\n",
       "      <td>98077.939805</td>\n",
       "      <td>47.560053</td>\n",
       "      <td>-122.213896</td>\n",
       "      <td>1986.552492</td>\n",
       "      <td>12768.455652</td>\n",
       "    </tr>\n",
       "    <tr>\n",
       "      <th>std</th>\n",
       "      <td>6239.28002</td>\n",
       "      <td>2.876566e+09</td>\n",
       "      <td>3.671272e+05</td>\n",
       "      <td>0.926657</td>\n",
       "      <td>0.768996</td>\n",
       "      <td>918.440897</td>\n",
       "      <td>4.142051e+04</td>\n",
       "      <td>0.539989</td>\n",
       "      <td>0.086517</td>\n",
       "      <td>0.766318</td>\n",
       "      <td>...</td>\n",
       "      <td>1.175459</td>\n",
       "      <td>828.090978</td>\n",
       "      <td>442.575043</td>\n",
       "      <td>29.373411</td>\n",
       "      <td>401.679240</td>\n",
       "      <td>53.505026</td>\n",
       "      <td>0.138564</td>\n",
       "      <td>0.140828</td>\n",
       "      <td>685.391304</td>\n",
       "      <td>27304.179631</td>\n",
       "    </tr>\n",
       "    <tr>\n",
       "      <th>min</th>\n",
       "      <td>0.00000</td>\n",
       "      <td>1.000102e+06</td>\n",
       "      <td>7.500000e+04</td>\n",
       "      <td>1.000000</td>\n",
       "      <td>0.500000</td>\n",
       "      <td>290.000000</td>\n",
       "      <td>5.200000e+02</td>\n",
       "      <td>1.000000</td>\n",
       "      <td>0.000000</td>\n",
       "      <td>0.000000</td>\n",
       "      <td>...</td>\n",
       "      <td>1.000000</td>\n",
       "      <td>290.000000</td>\n",
       "      <td>0.000000</td>\n",
       "      <td>1900.000000</td>\n",
       "      <td>0.000000</td>\n",
       "      <td>98001.000000</td>\n",
       "      <td>47.155900</td>\n",
       "      <td>-122.519000</td>\n",
       "      <td>399.000000</td>\n",
       "      <td>651.000000</td>\n",
       "    </tr>\n",
       "    <tr>\n",
       "      <th>25%</th>\n",
       "      <td>5403.00000</td>\n",
       "      <td>2.123049e+09</td>\n",
       "      <td>3.219500e+05</td>\n",
       "      <td>3.000000</td>\n",
       "      <td>1.750000</td>\n",
       "      <td>1427.000000</td>\n",
       "      <td>5.040000e+03</td>\n",
       "      <td>1.000000</td>\n",
       "      <td>0.000000</td>\n",
       "      <td>0.000000</td>\n",
       "      <td>...</td>\n",
       "      <td>7.000000</td>\n",
       "      <td>1190.000000</td>\n",
       "      <td>0.000000</td>\n",
       "      <td>1951.000000</td>\n",
       "      <td>0.000000</td>\n",
       "      <td>98033.000000</td>\n",
       "      <td>47.471000</td>\n",
       "      <td>-122.328000</td>\n",
       "      <td>1490.000000</td>\n",
       "      <td>5100.000000</td>\n",
       "    </tr>\n",
       "    <tr>\n",
       "      <th>50%</th>\n",
       "      <td>10806.00000</td>\n",
       "      <td>3.904930e+09</td>\n",
       "      <td>4.500000e+05</td>\n",
       "      <td>3.000000</td>\n",
       "      <td>2.250000</td>\n",
       "      <td>1910.000000</td>\n",
       "      <td>7.618000e+03</td>\n",
       "      <td>1.500000</td>\n",
       "      <td>0.000000</td>\n",
       "      <td>0.000000</td>\n",
       "      <td>...</td>\n",
       "      <td>7.000000</td>\n",
       "      <td>1560.000000</td>\n",
       "      <td>0.000000</td>\n",
       "      <td>1975.000000</td>\n",
       "      <td>0.000000</td>\n",
       "      <td>98065.000000</td>\n",
       "      <td>47.571800</td>\n",
       "      <td>-122.230000</td>\n",
       "      <td>1840.000000</td>\n",
       "      <td>7620.000000</td>\n",
       "    </tr>\n",
       "    <tr>\n",
       "      <th>75%</th>\n",
       "      <td>16209.00000</td>\n",
       "      <td>7.308900e+09</td>\n",
       "      <td>6.450000e+05</td>\n",
       "      <td>4.000000</td>\n",
       "      <td>2.500000</td>\n",
       "      <td>2550.000000</td>\n",
       "      <td>1.068800e+04</td>\n",
       "      <td>2.000000</td>\n",
       "      <td>0.000000</td>\n",
       "      <td>0.000000</td>\n",
       "      <td>...</td>\n",
       "      <td>8.000000</td>\n",
       "      <td>2210.000000</td>\n",
       "      <td>560.000000</td>\n",
       "      <td>1997.000000</td>\n",
       "      <td>0.000000</td>\n",
       "      <td>98118.000000</td>\n",
       "      <td>47.678000</td>\n",
       "      <td>-122.125000</td>\n",
       "      <td>2360.000000</td>\n",
       "      <td>10083.000000</td>\n",
       "    </tr>\n",
       "    <tr>\n",
       "      <th>max</th>\n",
       "      <td>21612.00000</td>\n",
       "      <td>9.900000e+09</td>\n",
       "      <td>7.700000e+06</td>\n",
       "      <td>33.000000</td>\n",
       "      <td>8.000000</td>\n",
       "      <td>13540.000000</td>\n",
       "      <td>1.651359e+06</td>\n",
       "      <td>3.500000</td>\n",
       "      <td>1.000000</td>\n",
       "      <td>4.000000</td>\n",
       "      <td>...</td>\n",
       "      <td>13.000000</td>\n",
       "      <td>9410.000000</td>\n",
       "      <td>4820.000000</td>\n",
       "      <td>2015.000000</td>\n",
       "      <td>2015.000000</td>\n",
       "      <td>98199.000000</td>\n",
       "      <td>47.777600</td>\n",
       "      <td>-121.315000</td>\n",
       "      <td>6210.000000</td>\n",
       "      <td>871200.000000</td>\n",
       "    </tr>\n",
       "  </tbody>\n",
       "</table>\n",
       "<p>8 rows × 21 columns</p>\n",
       "</div>"
      ],
      "text/plain": [
       "        Unnamed: 0            id         price      bedrooms     bathrooms  \\\n",
       "count  21613.00000  2.161300e+04  2.161300e+04  21600.000000  21603.000000   \n",
       "mean   10806.00000  4.580302e+09  5.400881e+05      3.372870      2.115736   \n",
       "std     6239.28002  2.876566e+09  3.671272e+05      0.926657      0.768996   \n",
       "min        0.00000  1.000102e+06  7.500000e+04      1.000000      0.500000   \n",
       "25%     5403.00000  2.123049e+09  3.219500e+05      3.000000      1.750000   \n",
       "50%    10806.00000  3.904930e+09  4.500000e+05      3.000000      2.250000   \n",
       "75%    16209.00000  7.308900e+09  6.450000e+05      4.000000      2.500000   \n",
       "max    21612.00000  9.900000e+09  7.700000e+06     33.000000      8.000000   \n",
       "\n",
       "        sqft_living      sqft_lot        floors    waterfront          view  \\\n",
       "count  21613.000000  2.161300e+04  21613.000000  21613.000000  21613.000000   \n",
       "mean    2079.899736  1.510697e+04      1.494309      0.007542      0.234303   \n",
       "std      918.440897  4.142051e+04      0.539989      0.086517      0.766318   \n",
       "min      290.000000  5.200000e+02      1.000000      0.000000      0.000000   \n",
       "25%     1427.000000  5.040000e+03      1.000000      0.000000      0.000000   \n",
       "50%     1910.000000  7.618000e+03      1.500000      0.000000      0.000000   \n",
       "75%     2550.000000  1.068800e+04      2.000000      0.000000      0.000000   \n",
       "max    13540.000000  1.651359e+06      3.500000      1.000000      4.000000   \n",
       "\n",
       "       ...         grade    sqft_above  sqft_basement      yr_built  \\\n",
       "count  ...  21613.000000  21613.000000   21613.000000  21613.000000   \n",
       "mean   ...      7.656873   1788.390691     291.509045   1971.005136   \n",
       "std    ...      1.175459    828.090978     442.575043     29.373411   \n",
       "min    ...      1.000000    290.000000       0.000000   1900.000000   \n",
       "25%    ...      7.000000   1190.000000       0.000000   1951.000000   \n",
       "50%    ...      7.000000   1560.000000       0.000000   1975.000000   \n",
       "75%    ...      8.000000   2210.000000     560.000000   1997.000000   \n",
       "max    ...     13.000000   9410.000000    4820.000000   2015.000000   \n",
       "\n",
       "       yr_renovated       zipcode           lat          long  sqft_living15  \\\n",
       "count  21613.000000  21613.000000  21613.000000  21613.000000   21613.000000   \n",
       "mean      84.402258  98077.939805     47.560053   -122.213896    1986.552492   \n",
       "std      401.679240     53.505026      0.138564      0.140828     685.391304   \n",
       "min        0.000000  98001.000000     47.155900   -122.519000     399.000000   \n",
       "25%        0.000000  98033.000000     47.471000   -122.328000    1490.000000   \n",
       "50%        0.000000  98065.000000     47.571800   -122.230000    1840.000000   \n",
       "75%        0.000000  98118.000000     47.678000   -122.125000    2360.000000   \n",
       "max     2015.000000  98199.000000     47.777600   -121.315000    6210.000000   \n",
       "\n",
       "          sqft_lot15  \n",
       "count   21613.000000  \n",
       "mean    12768.455652  \n",
       "std     27304.179631  \n",
       "min       651.000000  \n",
       "25%      5100.000000  \n",
       "50%      7620.000000  \n",
       "75%     10083.000000  \n",
       "max    871200.000000  \n",
       "\n",
       "[8 rows x 21 columns]"
      ]
     },
     "execution_count": 5,
     "metadata": {},
     "output_type": "execute_result"
    }
   ],
   "source": [
    "df.describe()"
   ]
  },
  {
   "cell_type": "markdown",
   "id": "514c6294",
   "metadata": {
    "papermill": {
     "duration": 0.008972,
     "end_time": "2023-12-28T00:53:12.086646",
     "exception": false,
     "start_time": "2023-12-28T00:53:12.077674",
     "status": "completed"
    },
    "tags": []
   },
   "source": [
    "# 2.1. Data Wrangling\n",
    "\n",
    "**Task 1 : Drop unneeded columns** \n",
    "\n",
    "For the sake of this project columns <code>\"id\"</code> and <code>\"Unnamed: 0\"</code> are not needed, so we need to drop them."
   ]
  },
  {
   "cell_type": "code",
   "execution_count": 6,
   "id": "8fe29e91",
   "metadata": {
    "execution": {
     "iopub.execute_input": "2023-12-28T00:53:12.107186Z",
     "iopub.status.busy": "2023-12-28T00:53:12.106830Z",
     "iopub.status.idle": "2023-12-28T00:53:12.115749Z",
     "shell.execute_reply": "2023-12-28T00:53:12.114685Z"
    },
    "papermill": {
     "duration": 0.021926,
     "end_time": "2023-12-28T00:53:12.117915",
     "exception": false,
     "start_time": "2023-12-28T00:53:12.095989",
     "status": "completed"
    },
    "tags": []
   },
   "outputs": [],
   "source": [
    "df.drop([\"id\",\"Unnamed: 0\"],axis = 1, inplace = True)"
   ]
  },
  {
   "cell_type": "markdown",
   "id": "6e98b1b0",
   "metadata": {
    "papermill": {
     "duration": 0.068146,
     "end_time": "2023-12-28T00:53:12.195530",
     "exception": false,
     "start_time": "2023-12-28T00:53:12.127384",
     "status": "completed"
    },
    "tags": []
   },
   "source": [
    "Let's check if the columns were droped"
   ]
  },
  {
   "cell_type": "code",
   "execution_count": 7,
   "id": "2e2d23c0",
   "metadata": {
    "execution": {
     "iopub.execute_input": "2023-12-28T00:53:12.217208Z",
     "iopub.status.busy": "2023-12-28T00:53:12.216361Z",
     "iopub.status.idle": "2023-12-28T00:53:12.221952Z",
     "shell.execute_reply": "2023-12-28T00:53:12.220974Z"
    },
    "papermill": {
     "duration": 0.018502,
     "end_time": "2023-12-28T00:53:12.223888",
     "exception": false,
     "start_time": "2023-12-28T00:53:12.205386",
     "status": "completed"
    },
    "tags": []
   },
   "outputs": [
    {
     "name": "stdout",
     "output_type": "stream",
     "text": [
      "Index(['date', 'price', 'bedrooms', 'bathrooms', 'sqft_living', 'sqft_lot',\n",
      "       'floors', 'waterfront', 'view', 'condition', 'grade', 'sqft_above',\n",
      "       'sqft_basement', 'yr_built', 'yr_renovated', 'zipcode', 'lat', 'long',\n",
      "       'sqft_living15', 'sqft_lot15'],\n",
      "      dtype='object')\n"
     ]
    }
   ],
   "source": [
    "print(df.columns)"
   ]
  },
  {
   "cell_type": "markdown",
   "id": "e2d3656e",
   "metadata": {
    "papermill": {
     "duration": 0.008858,
     "end_time": "2023-12-28T00:53:12.242188",
     "exception": false,
     "start_time": "2023-12-28T00:53:12.233330",
     "status": "completed"
    },
    "tags": []
   },
   "source": [
    "As seen above, the columns were indeed dropped."
   ]
  },
  {
   "cell_type": "markdown",
   "id": "a36d6cf6",
   "metadata": {
    "papermill": {
     "duration": 0.008946,
     "end_time": "2023-12-28T00:53:12.259992",
     "exception": false,
     "start_time": "2023-12-28T00:53:12.251046",
     "status": "completed"
    },
    "tags": []
   },
   "source": [
    "Let's check if there are missing values in the data frame."
   ]
  },
  {
   "cell_type": "code",
   "execution_count": 8,
   "id": "762c14cb",
   "metadata": {
    "execution": {
     "iopub.execute_input": "2023-12-28T00:53:12.279868Z",
     "iopub.status.busy": "2023-12-28T00:53:12.279506Z",
     "iopub.status.idle": "2023-12-28T00:53:12.301871Z",
     "shell.execute_reply": "2023-12-28T00:53:12.300585Z"
    },
    "papermill": {
     "duration": 0.034561,
     "end_time": "2023-12-28T00:53:12.303650",
     "exception": false,
     "start_time": "2023-12-28T00:53:12.269089",
     "status": "completed"
    },
    "tags": []
   },
   "outputs": [
    {
     "name": "stdout",
     "output_type": "stream",
     "text": [
      "<class 'pandas.core.frame.DataFrame'>\n",
      "RangeIndex: 21613 entries, 0 to 21612\n",
      "Data columns (total 20 columns):\n",
      " #   Column         Non-Null Count  Dtype  \n",
      "---  ------         --------------  -----  \n",
      " 0   date           21613 non-null  object \n",
      " 1   price          21613 non-null  float64\n",
      " 2   bedrooms       21600 non-null  float64\n",
      " 3   bathrooms      21603 non-null  float64\n",
      " 4   sqft_living    21613 non-null  int64  \n",
      " 5   sqft_lot       21613 non-null  int64  \n",
      " 6   floors         21613 non-null  float64\n",
      " 7   waterfront     21613 non-null  int64  \n",
      " 8   view           21613 non-null  int64  \n",
      " 9   condition      21613 non-null  int64  \n",
      " 10  grade          21613 non-null  int64  \n",
      " 11  sqft_above     21613 non-null  int64  \n",
      " 12  sqft_basement  21613 non-null  int64  \n",
      " 13  yr_built       21613 non-null  int64  \n",
      " 14  yr_renovated   21613 non-null  int64  \n",
      " 15  zipcode        21613 non-null  int64  \n",
      " 16  lat            21613 non-null  float64\n",
      " 17  long           21613 non-null  float64\n",
      " 18  sqft_living15  21613 non-null  int64  \n",
      " 19  sqft_lot15     21613 non-null  int64  \n",
      "dtypes: float64(6), int64(13), object(1)\n",
      "memory usage: 3.3+ MB\n",
      "None\n"
     ]
    }
   ],
   "source": [
    "print(df.info())"
   ]
  },
  {
   "cell_type": "markdown",
   "id": "383c842c",
   "metadata": {
    "papermill": {
     "duration": 0.008519,
     "end_time": "2023-12-28T00:53:12.321500",
     "exception": false,
     "start_time": "2023-12-28T00:53:12.312981",
     "status": "completed"
    },
    "tags": []
   },
   "source": [
    "As seen above, we can see that the columns <code>\"bedrooms</code> and <code>\"bathrooms\"</code> have missing values; they respectively 21600 and 21603 values/entries/rows instead of 21613.   \n",
    "We can double check this by verifying the number of missing values in those columns if there are any."
   ]
  },
  {
   "cell_type": "code",
   "execution_count": 9,
   "id": "3c2abb96",
   "metadata": {
    "execution": {
     "iopub.execute_input": "2023-12-28T00:53:12.340821Z",
     "iopub.status.busy": "2023-12-28T00:53:12.340294Z",
     "iopub.status.idle": "2023-12-28T00:53:12.345669Z",
     "shell.execute_reply": "2023-12-28T00:53:12.344802Z"
    },
    "papermill": {
     "duration": 0.017111,
     "end_time": "2023-12-28T00:53:12.347337",
     "exception": false,
     "start_time": "2023-12-28T00:53:12.330226",
     "status": "completed"
    },
    "tags": []
   },
   "outputs": [
    {
     "name": "stdout",
     "output_type": "stream",
     "text": [
      "number of NaN values for the column bedrooms : 13\n",
      "number of NaN values for the column bathrooms : 10\n"
     ]
    }
   ],
   "source": [
    "print(\"number of NaN values for the column bedrooms :\", df['bedrooms'].isnull().sum())\n",
    "print(\"number of NaN values for the column bathrooms :\", df['bathrooms'].isnull().sum())"
   ]
  },
  {
   "cell_type": "markdown",
   "id": "6bfe30b6",
   "metadata": {
    "papermill": {
     "duration": 0.009919,
     "end_time": "2023-12-28T00:53:12.366124",
     "exception": false,
     "start_time": "2023-12-28T00:53:12.356205",
     "status": "completed"
    },
    "tags": []
   },
   "source": [
    "As stated above, there are indeed missing values in these columns.\n",
    "\n",
    "**Task 2: Replace the missing values**\n",
    "\n",
    "The missing values in both columns will be replaced by their mean"
   ]
  },
  {
   "cell_type": "code",
   "execution_count": 10,
   "id": "d276f0f6",
   "metadata": {
    "execution": {
     "iopub.execute_input": "2023-12-28T00:53:12.385715Z",
     "iopub.status.busy": "2023-12-28T00:53:12.385388Z",
     "iopub.status.idle": "2023-12-28T00:53:12.391621Z",
     "shell.execute_reply": "2023-12-28T00:53:12.390773Z"
    },
    "papermill": {
     "duration": 0.018769,
     "end_time": "2023-12-28T00:53:12.393919",
     "exception": false,
     "start_time": "2023-12-28T00:53:12.375150",
     "status": "completed"
    },
    "tags": []
   },
   "outputs": [],
   "source": [
    "#For \"bedrooms\" (We first calculate/get the mean of the column, then we replace the missing values by it.)\n",
    "mean=df['bedrooms'].mean()\n",
    "df['bedrooms'].replace(np.nan,mean, inplace=True)\n",
    "\n",
    "#For \"bathrooms\"\n",
    "mean=df['bathrooms'].mean()\n",
    "df['bathrooms'].replace(np.nan,mean, inplace=True)"
   ]
  },
  {
   "cell_type": "markdown",
   "id": "9ec12139",
   "metadata": {
    "papermill": {
     "duration": 0.008876,
     "end_time": "2023-12-28T00:53:12.412469",
     "exception": false,
     "start_time": "2023-12-28T00:53:12.403593",
     "status": "completed"
    },
    "tags": []
   },
   "source": [
    "Let's check if the missing values have all been replaced."
   ]
  },
  {
   "cell_type": "code",
   "execution_count": 11,
   "id": "f797ae9e",
   "metadata": {
    "execution": {
     "iopub.execute_input": "2023-12-28T00:53:12.432492Z",
     "iopub.status.busy": "2023-12-28T00:53:12.432141Z",
     "iopub.status.idle": "2023-12-28T00:53:12.438755Z",
     "shell.execute_reply": "2023-12-28T00:53:12.437345Z"
    },
    "papermill": {
     "duration": 0.018957,
     "end_time": "2023-12-28T00:53:12.440462",
     "exception": false,
     "start_time": "2023-12-28T00:53:12.421505",
     "status": "completed"
    },
    "tags": []
   },
   "outputs": [
    {
     "name": "stdout",
     "output_type": "stream",
     "text": [
      "number of NaN values for the column bedrooms : 0\n",
      "number of NaN values for the column bathrooms : 0\n"
     ]
    }
   ],
   "source": [
    "print(\"number of NaN values for the column bedrooms :\", df['bedrooms'].isnull().sum())\n",
    "print(\"number of NaN values for the column bathrooms :\", df['bathrooms'].isnull().sum())"
   ]
  },
  {
   "cell_type": "markdown",
   "id": "00c6ec3d",
   "metadata": {
    "papermill": {
     "duration": 0.009245,
     "end_time": "2023-12-28T00:53:12.459309",
     "exception": false,
     "start_time": "2023-12-28T00:53:12.450064",
     "status": "completed"
    },
    "tags": []
   },
   "source": [
    "As seen above, all the missing values have been replaced.\n",
    "\n",
    "**Task 3: Determine/find the number of houses with unique floor values**\n",
    "\n",
    "To determine this, we will use the <code>value_count</code> method."
   ]
  },
  {
   "cell_type": "code",
   "execution_count": 12,
   "id": "e8bb4f36",
   "metadata": {
    "execution": {
     "iopub.execute_input": "2023-12-28T00:53:12.480615Z",
     "iopub.status.busy": "2023-12-28T00:53:12.479697Z",
     "iopub.status.idle": "2023-12-28T00:53:12.489525Z",
     "shell.execute_reply": "2023-12-28T00:53:12.488753Z"
    },
    "papermill": {
     "duration": 0.022817,
     "end_time": "2023-12-28T00:53:12.491322",
     "exception": false,
     "start_time": "2023-12-28T00:53:12.468505",
     "status": "completed"
    },
    "tags": []
   },
   "outputs": [
    {
     "data": {
      "text/html": [
       "<div>\n",
       "<style scoped>\n",
       "    .dataframe tbody tr th:only-of-type {\n",
       "        vertical-align: middle;\n",
       "    }\n",
       "\n",
       "    .dataframe tbody tr th {\n",
       "        vertical-align: top;\n",
       "    }\n",
       "\n",
       "    .dataframe thead th {\n",
       "        text-align: right;\n",
       "    }\n",
       "</style>\n",
       "<table border=\"1\" class=\"dataframe\">\n",
       "  <thead>\n",
       "    <tr style=\"text-align: right;\">\n",
       "      <th></th>\n",
       "      <th>count</th>\n",
       "    </tr>\n",
       "    <tr>\n",
       "      <th>floors</th>\n",
       "      <th></th>\n",
       "    </tr>\n",
       "  </thead>\n",
       "  <tbody>\n",
       "    <tr>\n",
       "      <th>1.0</th>\n",
       "      <td>10680</td>\n",
       "    </tr>\n",
       "    <tr>\n",
       "      <th>2.0</th>\n",
       "      <td>8241</td>\n",
       "    </tr>\n",
       "    <tr>\n",
       "      <th>1.5</th>\n",
       "      <td>1910</td>\n",
       "    </tr>\n",
       "    <tr>\n",
       "      <th>3.0</th>\n",
       "      <td>613</td>\n",
       "    </tr>\n",
       "    <tr>\n",
       "      <th>2.5</th>\n",
       "      <td>161</td>\n",
       "    </tr>\n",
       "    <tr>\n",
       "      <th>3.5</th>\n",
       "      <td>8</td>\n",
       "    </tr>\n",
       "  </tbody>\n",
       "</table>\n",
       "</div>"
      ],
      "text/plain": [
       "        count\n",
       "floors       \n",
       "1.0     10680\n",
       "2.0      8241\n",
       "1.5      1910\n",
       "3.0       613\n",
       "2.5       161\n",
       "3.5         8"
      ]
     },
     "execution_count": 12,
     "metadata": {},
     "output_type": "execute_result"
    }
   ],
   "source": [
    "df[\"floors\"].value_counts().to_frame()"
   ]
  },
  {
   "cell_type": "markdown",
   "id": "2e78f91e",
   "metadata": {
    "papermill": {
     "duration": 0.009103,
     "end_time": "2023-12-28T00:53:12.510317",
     "exception": false,
     "start_time": "2023-12-28T00:53:12.501214",
     "status": "completed"
    },
    "tags": []
   },
   "source": [
    "**Task 4: Determine the nature(positive or negative) of the correlation between \"price\" and \"sqft_above**\n",
    "\n",
    "This will be done using function <code>regplot</code> of the seaborn library"
   ]
  },
  {
   "cell_type": "code",
   "execution_count": 13,
   "id": "933a74a3",
   "metadata": {
    "execution": {
     "iopub.execute_input": "2023-12-28T00:53:12.530654Z",
     "iopub.status.busy": "2023-12-28T00:53:12.530059Z",
     "iopub.status.idle": "2023-12-28T00:53:13.976707Z",
     "shell.execute_reply": "2023-12-28T00:53:13.975593Z"
    },
    "papermill": {
     "duration": 1.458918,
     "end_time": "2023-12-28T00:53:13.978506",
     "exception": false,
     "start_time": "2023-12-28T00:53:12.519588",
     "status": "completed"
    },
    "tags": []
   },
   "outputs": [
    {
     "data": {
      "text/plain": [
       "<Axes: xlabel='sqft_above', ylabel='price'>"
      ]
     },
     "execution_count": 13,
     "metadata": {},
     "output_type": "execute_result"
    },
    {
     "data": {
      "image/png": "[encoded data removed]",
      "text/plain": [
       "<Figure size 640x480 with 1 Axes>"
      ]
     },
     "metadata": {},
     "output_type": "display_data"
    }
   ],
   "source": [
    "sns.regplot(x=\"sqft_above\", y=\"price\", data=df, line_kws={\"color\": \"red\"})"
   ]
  },
  {
   "cell_type": "markdown",
   "id": "d4dca56f",
   "metadata": {
    "papermill": {
     "duration": 0.010316,
     "end_time": "2023-12-28T00:53:13.999515",
     "exception": false,
     "start_time": "2023-12-28T00:53:13.989199",
     "status": "completed"
    },
    "tags": []
   },
   "source": [
    "The plot shows that the correlation between <code>\"sqft_above\"</code> and <code>\"price\"</code> is positive\n",
    "\n",
    "Let's verify this as well as the correlation between <code>\"price\"</code> and the other featutes in the data frame using the Panda method <code>corr()</code> .\n",
    "\n",
    "Before doing that, let's drop the column <code>\"date\"</code> as it is coded as having categorical data and that will prevent the <code>corr()</code> function to run."
   ]
  },
  {
   "cell_type": "code",
   "execution_count": 14,
   "id": "232dfd40",
   "metadata": {
    "execution": {
     "iopub.execute_input": "2023-12-28T00:53:14.021358Z",
     "iopub.status.busy": "2023-12-28T00:53:14.021031Z",
     "iopub.status.idle": "2023-12-28T00:53:14.028486Z",
     "shell.execute_reply": "2023-12-28T00:53:14.027196Z"
    },
    "papermill": {
     "duration": 0.020884,
     "end_time": "2023-12-28T00:53:14.030413",
     "exception": false,
     "start_time": "2023-12-28T00:53:14.009529",
     "status": "completed"
    },
    "tags": []
   },
   "outputs": [
    {
     "name": "stdout",
     "output_type": "stream",
     "text": [
      "Index(['price', 'bedrooms', 'bathrooms', 'sqft_living', 'sqft_lot', 'floors',\n",
      "       'waterfront', 'view', 'condition', 'grade', 'sqft_above',\n",
      "       'sqft_basement', 'yr_built', 'yr_renovated', 'zipcode', 'lat', 'long',\n",
      "       'sqft_living15', 'sqft_lot15'],\n",
      "      dtype='object')\n"
     ]
    }
   ],
   "source": [
    "df.drop([\"date\"],axis = 1, inplace = True)\n",
    "print(df.columns)"
   ]
  },
  {
   "cell_type": "markdown",
   "id": "089ebbed",
   "metadata": {
    "papermill": {
     "duration": 0.009867,
     "end_time": "2023-12-28T00:53:14.051126",
     "exception": false,
     "start_time": "2023-12-28T00:53:14.041259",
     "status": "completed"
    },
    "tags": []
   },
   "source": [
    "Now we can run our <code>corr()</code> function."
   ]
  },
  {
   "cell_type": "code",
   "execution_count": 15,
   "id": "324c3f20",
   "metadata": {
    "execution": {
     "iopub.execute_input": "2023-12-28T00:53:14.073092Z",
     "iopub.status.busy": "2023-12-28T00:53:14.072743Z",
     "iopub.status.idle": "2023-12-28T00:53:14.099270Z",
     "shell.execute_reply": "2023-12-28T00:53:14.098114Z"
    },
    "papermill": {
     "duration": 0.040224,
     "end_time": "2023-12-28T00:53:14.101369",
     "exception": false,
     "start_time": "2023-12-28T00:53:14.061145",
     "status": "completed"
    },
    "tags": []
   },
   "outputs": [
    {
     "data": {
      "text/plain": [
       "zipcode         -0.053203\n",
       "long             0.021626\n",
       "condition        0.036362\n",
       "yr_built         0.054012\n",
       "sqft_lot15       0.082447\n",
       "sqft_lot         0.089661\n",
       "yr_renovated     0.126434\n",
       "floors           0.256794\n",
       "waterfront       0.266369\n",
       "lat              0.307003\n",
       "bedrooms         0.308797\n",
       "sqft_basement    0.323816\n",
       "view             0.397293\n",
       "bathrooms        0.525738\n",
       "sqft_living15    0.585379\n",
       "sqft_above       0.605567\n",
       "grade            0.667434\n",
       "sqft_living      0.702035\n",
       "price            1.000000\n",
       "Name: price, dtype: float64"
      ]
     },
     "execution_count": 15,
     "metadata": {},
     "output_type": "execute_result"
    }
   ],
   "source": [
    "df.corr()['price'].sort_values()"
   ]
  },
  {
   "cell_type": "markdown",
   "id": "e4b45b61",
   "metadata": {
    "papermill": {
     "duration": 0.010195,
     "end_time": "2023-12-28T00:53:14.122307",
     "exception": false,
     "start_time": "2023-12-28T00:53:14.112112",
     "status": "completed"
    },
    "tags": []
   },
   "source": [
    "From the result above(0.605567), we can confirm that the correlation between <code>\"price\"</code> and <code>\"sqft_above\"</code> is positive. This suggests that as the living area or the area above ground increases, the house price tends to increase significantly.\n",
    "\n",
    "We can aslo highlight the negative correlation between <code>\"price\"</code> and <code>\"zip_code\"</code> (-0.053203) which is quite weak and suggest a very minimal relationship between zip code and house price.\n",
    "\n",
    "**Task 5: Fit a Linear Regression Model to predict \"price\" using the longitude feature <code>\"long\"</code>**\n",
    "\n",
    "We will determine the coeffiecient R^2(R-squared) as well to measure how well the linear regression data fits well the data."
   ]
  },
  {
   "cell_type": "code",
   "execution_count": 16,
   "id": "01a2b175",
   "metadata": {
    "execution": {
     "iopub.execute_input": "2023-12-28T00:53:14.146227Z",
     "iopub.status.busy": "2023-12-28T00:53:14.145862Z",
     "iopub.status.idle": "2023-12-28T00:53:14.171112Z",
     "shell.execute_reply": "2023-12-28T00:53:14.170093Z"
    },
    "papermill": {
     "duration": 0.040195,
     "end_time": "2023-12-28T00:53:14.172952",
     "exception": false,
     "start_time": "2023-12-28T00:53:14.132757",
     "status": "completed"
    },
    "tags": []
   },
   "outputs": [
    {
     "data": {
      "text/plain": [
       "0.00046769430149007363"
      ]
     },
     "execution_count": 16,
     "metadata": {},
     "output_type": "execute_result"
    }
   ],
   "source": [
    "X = df[['long']]\n",
    "Y = df['price']\n",
    "lm = LinearRegression()\n",
    "lm.fit(X,Y)\n",
    "lm.score(X, Y)"
   ]
  },
  {
   "cell_type": "markdown",
   "id": "4f29040e",
   "metadata": {
    "papermill": {
     "duration": 0.010199,
     "end_time": "2023-12-28T00:53:14.194071",
     "exception": false,
     "start_time": "2023-12-28T00:53:14.183872",
     "status": "completed"
    },
    "tags": []
   },
   "source": [
    "The result shows that the R-squared value is 0.00046769430149007363,which is very close to 0. This indicates that the linear regression model built using the 'long' feature as the predictor variable (X) does not explain much of the variance in the 'price' target variable (Y).\n",
    "\n",
    "An R-squared value closer to 1 indicates that the model explains a larger proportion of the variance in the dependent variable around its mean. However, an R-squared value of 0 or close to 0 suggests that the model does not explain much of the variance and may not be a good fit for the data.\n",
    "\n",
    "In our case, the 'long' feature alone might not be a strong predictor of the 'price' variable, or a linear relationship might not exist between these two variables, leading to a very low R-squared value.\n",
    "\n",
    "**Task 6: Fit a Linear Regression Model to predict \"price\" using the longitude feature <code>\"sqft_living\"</code>**"
   ]
  },
  {
   "cell_type": "code",
   "execution_count": 17,
   "id": "c4d8f203",
   "metadata": {
    "execution": {
     "iopub.execute_input": "2023-12-28T00:53:14.216657Z",
     "iopub.status.busy": "2023-12-28T00:53:14.215616Z",
     "iopub.status.idle": "2023-12-28T00:53:14.229038Z",
     "shell.execute_reply": "2023-12-28T00:53:14.227763Z"
    },
    "papermill": {
     "duration": 0.026632,
     "end_time": "2023-12-28T00:53:14.230902",
     "exception": false,
     "start_time": "2023-12-28T00:53:14.204270",
     "status": "completed"
    },
    "tags": []
   },
   "outputs": [
    {
     "data": {
      "text/plain": [
       "0.4928532179037931"
      ]
     },
     "execution_count": 17,
     "metadata": {},
     "output_type": "execute_result"
    }
   ],
   "source": [
    "#Y remains the same(\"price\")\n",
    "X = df[['sqft_living']]\n",
    "lm2 = LinearRegression()\n",
    "lm2.fit(X,Y)\n",
    "lm2.score(X, Y)"
   ]
  },
  {
   "cell_type": "markdown",
   "id": "f8f00fc1",
   "metadata": {
    "papermill": {
     "duration": 0.010096,
     "end_time": "2023-12-28T00:53:14.251793",
     "exception": false,
     "start_time": "2023-12-28T00:53:14.241697",
     "status": "completed"
    },
    "tags": []
   },
   "source": [
    "The result show an R-squared of approximately 0.49 which means that the linear regression model explains roughly 49% of the variance in the 'price' variable based on the 'sqft_living' variable alone.\n",
    "\n",
    "It implies that almost half of the variability in the house prices can be explained by the square footage of the living area ('sqft_living') using this linear model. While an R-squared of 0.49 is not extremely high, it still indicates a moderate level of predictability or correlation between 'sqft_living' and 'price'.\n",
    "\n",
    "But it's important to underline that R-squared alone might not provide a complete picture, and other factors could significantly impact house prices. It's essential to consider multiple variables and possibly use more complex models for a more comprehensive understanding of the relationships between predictors and the target variable.\n",
    "\n",
    "**Task 7: Fit a linear regression model to predict the <code>'price'</code> using the list of features:**\n",
    "\n",
    "features =[\"floors\", \"waterfront\",\"lat\" ,\"bedrooms\" ,\"sqft_basement\" ,\"view\" ,\"bathrooms\",\"sqft_living15\",\"sqft_above\",\"grade\",\"sqft_living\"]   "
   ]
  },
  {
   "cell_type": "code",
   "execution_count": 18,
   "id": "01d9d308",
   "metadata": {
    "execution": {
     "iopub.execute_input": "2023-12-28T00:53:14.274485Z",
     "iopub.status.busy": "2023-12-28T00:53:14.273404Z",
     "iopub.status.idle": "2023-12-28T00:53:14.301667Z",
     "shell.execute_reply": "2023-12-28T00:53:14.300988Z"
    },
    "papermill": {
     "duration": 0.044527,
     "end_time": "2023-12-28T00:53:14.306585",
     "exception": false,
     "start_time": "2023-12-28T00:53:14.262058",
     "status": "completed"
    },
    "tags": []
   },
   "outputs": [
    {
     "data": {
      "text/plain": [
       "0.6576862276276761"
      ]
     },
     "execution_count": 18,
     "metadata": {},
     "output_type": "execute_result"
    }
   ],
   "source": [
    "features =[\"floors\", \"waterfront\",\"lat\" ,\"bedrooms\" ,\"sqft_basement\" ,\"view\" ,\"bathrooms\",\"sqft_living15\",\"sqft_above\",\"grade\",\"sqft_living\"]\n",
    "\n",
    "#Y remains the same\n",
    "Z = df[features]\n",
    "lm.fit(Z, Y)\n",
    "lm.score(Z, Y)"
   ]
  },
  {
   "cell_type": "markdown",
   "id": "fe58e147",
   "metadata": {
    "papermill": {
     "duration": 0.029378,
     "end_time": "2023-12-28T00:53:14.369804",
     "exception": false,
     "start_time": "2023-12-28T00:53:14.340426",
     "status": "completed"
    },
    "tags": []
   },
   "source": [
    "Compared result we got using <code>\"sqft_living\"</code> feature only(0.49), we can see that the coefficient has improved a lot (0.657) now that we have include multiple features to get a multiple linear regression.\n",
    "\n",
    "In a multiple linear regression model, each coefficient represents the estimated change in the dependent variable when the respective independent variable changes by one unit, assuming all other variables remain constant.\n",
    "\n",
    "Therefore, for example, a coefficient of 0.657 for a feature like 'bedrooms' would mean that, all else being equal, a one-unit increase in the number of bedrooms is associated with an estimated 0.657 unit increase in the 'price' of the house.\n",
    "\n",
    "Here it's important to note that while the coefficient values provide insight into the strength and direction of the relationship between each feature and the 'price', their interpretation should consider the context of the dataset and the assumptions of the linear regression model. Additionally, the coefficient alone doesn't provide information about the statistical significance or causation between variables, which might require further analysis or hypothesis testing.\n",
    "\n",
    "**Task 8: Predict <code>\"price\"</code> using the list <code>features</code> along with other elements such as <code>'scale'</code> and <code>'polynomial'</code>**\n",
    "\n",
    "We will start by creating a list of tuples, the first element in the tuple contains the name of the estimator:\n",
    "\n",
    "<code>'scale'</code>\n",
    "\n",
    "<code>'polynomial'</code>\n",
    "\n",
    "<code>'model'</code>\n",
    "\n",
    "The second element in the tuple contains the model constructor\n",
    "\n",
    "<code>StandardScaler()</code>\n",
    "\n",
    "<code>PolynomialFeatures(include_bias=False)</code>\n",
    "\n",
    "<code>LinearRegression()</code>"
   ]
  },
  {
   "cell_type": "code",
   "execution_count": 19,
   "id": "13b60442",
   "metadata": {
    "execution": {
     "iopub.execute_input": "2023-12-28T00:53:14.419311Z",
     "iopub.status.busy": "2023-12-28T00:53:14.418976Z",
     "iopub.status.idle": "2023-12-28T00:53:14.423326Z",
     "shell.execute_reply": "2023-12-28T00:53:14.422479Z"
    },
    "papermill": {
     "duration": 0.02719,
     "end_time": "2023-12-28T00:53:14.424788",
     "exception": false,
     "start_time": "2023-12-28T00:53:14.397598",
     "status": "completed"
    },
    "tags": []
   },
   "outputs": [],
   "source": [
    "Input=[('scale',StandardScaler()),('polynomial', PolynomialFeatures(include_bias=False)),('model',LinearRegression())]"
   ]
  },
  {
   "cell_type": "markdown",
   "id": "ad8bcacb",
   "metadata": {
    "papermill": {
     "duration": 0.010333,
     "end_time": "2023-12-28T00:53:14.445326",
     "exception": false,
     "start_time": "2023-12-28T00:53:14.434993",
     "status": "completed"
    },
    "tags": []
   },
   "source": [
    "Then using the list, we will create a pipeline object to predict the <code>'price'</code>, and then fit the object using the features in the list features. We will aslo calculate the coefficient R^2 to measure how well the model fits the data."
   ]
  },
  {
   "cell_type": "code",
   "execution_count": 20,
   "id": "35bd3fc5",
   "metadata": {
    "execution": {
     "iopub.execute_input": "2023-12-28T00:53:14.474384Z",
     "iopub.status.busy": "2023-12-28T00:53:14.473419Z",
     "iopub.status.idle": "2023-12-28T00:53:14.593088Z",
     "shell.execute_reply": "2023-12-28T00:53:14.591820Z"
    },
    "papermill": {
     "duration": 0.137408,
     "end_time": "2023-12-28T00:53:14.596053",
     "exception": false,
     "start_time": "2023-12-28T00:53:14.458645",
     "status": "completed"
    },
    "tags": []
   },
   "outputs": [
    {
     "name": "stdout",
     "output_type": "stream",
     "text": [
      "0.7513409118896031\n"
     ]
    }
   ],
   "source": [
    "#We start by importing r2_score to define it so that it can work in the function.\n",
    "from sklearn.metrics import r2_score\n",
    "\n",
    "pipe=Pipeline(Input)\n",
    "Z = Z.astype(float)\n",
    "pipe.fit(Z,Y)\n",
    "ypipe=pipe.predict(Z)\n",
    "print(r2_score(Y,ypipe))"
   ]
  },
  {
   "cell_type": "markdown",
   "id": "66b30144",
   "metadata": {
    "papermill": {
     "duration": 0.044889,
     "end_time": "2023-12-28T00:53:14.673232",
     "exception": false,
     "start_time": "2023-12-28T00:53:14.628343",
     "status": "completed"
    },
    "tags": []
   },
   "source": [
    "**Task 9: Create and fit a Ridge regression object using training data, set the regularization parameter to 0.1, and calculate the R^2 using the test data.**\n",
    "\n",
    "We will start by spliting the data into training and testing sets.\n",
    "To do so, we will import the appropriate mudules scikit-learn first."
   ]
  },
  {
   "cell_type": "code",
   "execution_count": 21,
   "id": "2312cbae",
   "metadata": {
    "execution": {
     "iopub.execute_input": "2023-12-28T00:53:14.704464Z",
     "iopub.status.busy": "2023-12-28T00:53:14.703801Z",
     "iopub.status.idle": "2023-12-28T00:53:14.709621Z",
     "shell.execute_reply": "2023-12-28T00:53:14.708575Z"
    },
    "papermill": {
     "duration": 0.023831,
     "end_time": "2023-12-28T00:53:14.711320",
     "exception": false,
     "start_time": "2023-12-28T00:53:14.687489",
     "status": "completed"
    },
    "tags": []
   },
   "outputs": [],
   "source": [
    "from sklearn.model_selection import cross_val_score\n",
    "from sklearn.model_selection import train_test_split\n",
    "from sklearn.linear_model import Ridge"
   ]
  },
  {
   "cell_type": "code",
   "execution_count": 22,
   "id": "55912b68",
   "metadata": {
    "execution": {
     "iopub.execute_input": "2023-12-28T00:53:14.734676Z",
     "iopub.status.busy": "2023-12-28T00:53:14.734120Z",
     "iopub.status.idle": "2023-12-28T00:53:14.744873Z",
     "shell.execute_reply": "2023-12-28T00:53:14.743777Z"
    },
    "papermill": {
     "duration": 0.024239,
     "end_time": "2023-12-28T00:53:14.746574",
     "exception": false,
     "start_time": "2023-12-28T00:53:14.722335",
     "status": "completed"
    },
    "tags": []
   },
   "outputs": [
    {
     "name": "stdout",
     "output_type": "stream",
     "text": [
      "number of test samples: 3242\n",
      "number of training samples: 18371\n"
     ]
    }
   ],
   "source": [
    "features =[\"floors\", \"waterfront\",\"lat\" ,\"bedrooms\" ,\"sqft_basement\" ,\"view\" ,\"bathrooms\",\"sqft_living15\",\"sqft_above\",\"grade\",\"sqft_living\"]    \n",
    "X = df[features]\n",
    "Y = df['price']\n",
    "\n",
    "x_train, x_test, y_train, y_test = train_test_split(X, Y, test_size=0.15, random_state=1)\n",
    "\n",
    "\n",
    "print(\"number of test samples:\", x_test.shape[0])\n",
    "print(\"number of training samples:\",x_train.shape[0])"
   ]
  },
  {
   "cell_type": "markdown",
   "id": "f1a5a7fd",
   "metadata": {
    "papermill": {
     "duration": 0.010595,
     "end_time": "2023-12-28T00:53:14.768059",
     "exception": false,
     "start_time": "2023-12-28T00:53:14.757464",
     "status": "completed"
    },
    "tags": []
   },
   "source": [
    "Now let's fit the ridge regression."
   ]
  },
  {
   "cell_type": "code",
   "execution_count": 23,
   "id": "e267c201",
   "metadata": {
    "execution": {
     "iopub.execute_input": "2023-12-28T00:53:14.791436Z",
     "iopub.status.busy": "2023-12-28T00:53:14.790876Z",
     "iopub.status.idle": "2023-12-28T00:53:14.808050Z",
     "shell.execute_reply": "2023-12-28T00:53:14.807048Z"
    },
    "papermill": {
     "duration": 0.031131,
     "end_time": "2023-12-28T00:53:14.810021",
     "exception": false,
     "start_time": "2023-12-28T00:53:14.778890",
     "status": "completed"
    },
    "tags": []
   },
   "outputs": [
    {
     "name": "stdout",
     "output_type": "stream",
     "text": [
      "0.6478759163939113\n"
     ]
    }
   ],
   "source": [
    "RidgeModel = Ridge(alpha = 0.1)\n",
    "RidgeModel.fit(x_train, y_train)\n",
    "yhat = RidgeModel.predict(x_test)\n",
    "print(r2_score(y_test, yhat))"
   ]
  },
  {
   "cell_type": "markdown",
   "id": "4a0a32fc",
   "metadata": {
    "papermill": {
     "duration": 0.013947,
     "end_time": "2023-12-28T00:53:14.839457",
     "exception": false,
     "start_time": "2023-12-28T00:53:14.825510",
     "status": "completed"
    },
    "tags": []
   },
   "source": [
    "**Task 10: Perform a second order polynomial transform on both the training data and testing data.**\n",
    "\n",
    "We will first create and fit a Ridge regression object using the training data, set the regularisation parameter to 0.1, and  then calculate the R^2 utilising the test data provided"
   ]
  },
  {
   "cell_type": "code",
   "execution_count": 24,
   "id": "720b5fa0",
   "metadata": {
    "execution": {
     "iopub.execute_input": "2023-12-28T00:53:14.871143Z",
     "iopub.status.busy": "2023-12-28T00:53:14.870794Z",
     "iopub.status.idle": "2023-12-28T00:53:14.978142Z",
     "shell.execute_reply": "2023-12-28T00:53:14.977474Z"
    },
    "papermill": {
     "duration": 0.124385,
     "end_time": "2023-12-28T00:53:14.980227",
     "exception": false,
     "start_time": "2023-12-28T00:53:14.855842",
     "status": "completed"
    },
    "tags": []
   },
   "outputs": [
    {
     "name": "stdout",
     "output_type": "stream",
     "text": [
      "0.700274428859574\n"
     ]
    }
   ],
   "source": [
    "poly = PolynomialFeatures(degree=2)\n",
    "x_train_poly = poly.fit_transform(x_train)\n",
    "x_test_poly = poly.transform(x_test)\n",
    "ridge = Ridge(alpha=0.1) \n",
    "ridge.fit(x_train_poly, y_train) \n",
    "y_pred = ridge.predict(x_test_poly)\n",
    "print(r2_score(y_test, y_pred))"
   ]
  },
  {
   "cell_type": "markdown",
   "id": "7fbe2e90",
   "metadata": {
    "papermill": {
     "duration": 0.036552,
     "end_time": "2023-12-28T00:53:15.047614",
     "exception": false,
     "start_time": "2023-12-28T00:53:15.011062",
     "status": "completed"
    },
    "tags": []
   },
   "source": [
    "# **3. Conclusion**\n",
    "\n",
    "If we were to base ourself on the coefficient only, the model that fits better the data and consequently will be the best to use to predict \"price\" is the <code>Pipeline</code> model using the <code>'scale'</code>, the <code>'polynomial'</code> and the <code>LinearRegression()</code> as it has the biggest coefficient. But as stated earlier, the coefficient alone is not enough to determine the best model, further analysis might be needed."
   ]
  }
 ],
 "metadata": {
  "kaggle": {
   "accelerator": "none",
   "dataSources": [],
   "dockerImageVersionId": 30626,
   "isGpuEnabled": false,
   "isInternetEnabled": true,
   "language": "python",
   "sourceType": "notebook"
  },
  "kernelspec": {
   "display_name": "Python 3",
   "language": "python",
   "name": "python3"
  },
  "language_info": {
   "codemirror_mode": {
    "name": "ipython",
    "version": 3
   },
   "file_extension": ".py",
   "mimetype": "text/x-python",
   "name": "python",
   "nbconvert_exporter": "python",
   "pygments_lexer": "ipython3",
   "version": "3.10.12"
  },
  "papermill": {
   "default_parameters": {},
   "duration": 10.125637,
   "end_time": "2023-12-28T00:53:15.613601",
   "environment_variables": {},
   "exception": null,
   "input_path": "__notebook__.ipynb",
   "output_path": "__notebook__.ipynb",
   "parameters": {},
   "start_time": "2023-12-28T00:53:05.487964",
   "version": "2.4.0"
  }
 },
 "nbformat": 4,
 "nbformat_minor": 5
}
